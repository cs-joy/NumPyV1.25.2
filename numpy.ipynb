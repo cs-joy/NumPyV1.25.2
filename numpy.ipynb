{
  "nbformat": 4,
  "nbformat_minor": 0,
  "metadata": {
    "colab": {
      "provenance": []
    },
    "kernelspec": {
      "name": "python3",
      "display_name": "Python 3"
    },
    "language_info": {
      "name": "python"
    }
  },
  "cells": [
    {
      "cell_type": "code",
      "execution_count": 15,
      "metadata": {
        "colab": {
          "base_uri": "https://localhost:8080/",
          "height": 35
        },
        "id": "6ERZtbjwsCc2",
        "outputId": "84d6d285-efa4-4b36-a39b-a46def093754"
      },
      "outputs": [
        {
          "output_type": "execute_result",
          "data": {
            "text/plain": [
              "'1.25.2'"
            ],
            "application/vnd.google.colaboratory.intrinsic+json": {
              "type": "string"
            }
          },
          "metadata": {},
          "execution_count": 15
        }
      ],
      "source": [
        "import numpy as np\n",
        "\n",
        "np.__version__"
      ]
    },
    {
      "cell_type": "code",
      "source": [
        "arr1 = np.arange(50) # 0 to 49\n",
        "arr1, arr1.dtype"
      ],
      "metadata": {
        "id": "kIsfFGmfsVN4",
        "colab": {
          "base_uri": "https://localhost:8080/"
        },
        "outputId": "f8c1faff-c05b-40c7-ee1c-7e80965f0098"
      },
      "execution_count": 16,
      "outputs": [
        {
          "output_type": "execute_result",
          "data": {
            "text/plain": [
              "(array([ 0,  1,  2,  3,  4,  5,  6,  7,  8,  9, 10, 11, 12, 13, 14, 15, 16,\n",
              "        17, 18, 19, 20, 21, 22, 23, 24, 25, 26, 27, 28, 29, 30, 31, 32, 33,\n",
              "        34, 35, 36, 37, 38, 39, 40, 41, 42, 43, 44, 45, 46, 47, 48, 49]),\n",
              " dtype('int64'))"
            ]
          },
          "metadata": {},
          "execution_count": 16
        }
      ]
    },
    {
      "cell_type": "code",
      "source": [
        "arr2 = np.random.randint(0, 50, 50)\n",
        "arr2, arr2.dtype"
      ],
      "metadata": {
        "colab": {
          "base_uri": "https://localhost:8080/"
        },
        "id": "X8jPjw77CLvL",
        "outputId": "2b4e37c1-1798-40ac-8008-8c7ef4afa473"
      },
      "execution_count": 17,
      "outputs": [
        {
          "output_type": "execute_result",
          "data": {
            "text/plain": [
              "(array([37, 22, 37, 38, 41, 35, 39,  1, 29, 11, 41,  9, 30, 34, 13, 23, 22,\n",
              "        37,  9, 10, 11, 43, 28,  3,  0, 34, 39, 41, 16, 14, 32, 22,  9,  3,\n",
              "         0, 48,  8, 10,  0, 49, 15, 27, 25, 30, 19, 16, 14, 23, 31, 12]),\n",
              " dtype('int64'))"
            ]
          },
          "metadata": {},
          "execution_count": 17
        }
      ]
    },
    {
      "cell_type": "code",
      "source": [
        "len(arr2)"
      ],
      "metadata": {
        "colab": {
          "base_uri": "https://localhost:8080/"
        },
        "id": "TfNPni9JCUHD",
        "outputId": "d1df48e0-3826-49cb-9c07-77711d851a18"
      },
      "execution_count": 18,
      "outputs": [
        {
          "output_type": "execute_result",
          "data": {
            "text/plain": [
              "50"
            ]
          },
          "metadata": {},
          "execution_count": 18
        }
      ]
    },
    {
      "cell_type": "code",
      "source": [
        "arr3 = np.random.rand(50)\n",
        "arr3, arr3.dtype"
      ],
      "metadata": {
        "colab": {
          "base_uri": "https://localhost:8080/"
        },
        "id": "duxZ1v-ZCtZj",
        "outputId": "69c98cb5-95ac-49d4-c159-f4650a306fb4"
      },
      "execution_count": 19,
      "outputs": [
        {
          "output_type": "execute_result",
          "data": {
            "text/plain": [
              "(array([0.72153998, 0.98868093, 0.43785159, 0.05950565, 0.81205559,\n",
              "        0.84891331, 0.49112825, 0.73687195, 0.37748197, 0.00462432,\n",
              "        0.92900389, 0.81536589, 0.43411044, 0.53742046, 0.81156653,\n",
              "        0.3147773 , 0.59762637, 0.84948754, 0.90063032, 0.17039542,\n",
              "        0.20982231, 0.43597811, 0.38741962, 0.78631306, 0.57573501,\n",
              "        0.49029311, 0.09340286, 0.52865929, 0.23538726, 0.31614302,\n",
              "        0.0433329 , 0.06376722, 0.04753596, 0.55658837, 0.07110983,\n",
              "        0.40565042, 0.45758302, 0.36211431, 0.91915268, 0.53049246,\n",
              "        0.77644548, 0.58627511, 0.26355941, 0.1219032 , 0.1991548 ,\n",
              "        0.18849197, 0.48142093, 0.23556868, 0.65812279, 0.14907104]),\n",
              " dtype('float64'))"
            ]
          },
          "metadata": {},
          "execution_count": 19
        }
      ]
    },
    {
      "cell_type": "code",
      "source": [
        "new_array1 = arr1 + 10 * np.random.randn(50)\n",
        "new_array1"
      ],
      "metadata": {
        "colab": {
          "base_uri": "https://localhost:8080/"
        },
        "id": "oRxr2C5PC0ka",
        "outputId": "096d996b-b476-45f5-b16f-a9932db62a12"
      },
      "execution_count": 24,
      "outputs": [
        {
          "output_type": "execute_result",
          "data": {
            "text/plain": [
              "array([14.58993118, -8.31697911, 28.37354699, -9.75872694, 10.1691992 ,\n",
              "       11.4228697 , 11.50527493, -4.65754171, -1.57519095, 14.07301144,\n",
              "        0.71062069, 32.13503994, -8.36394497,  5.15206956, 30.14188848,\n",
              "       21.51715309,  7.30376072, 19.032855  , 27.35499766,  1.49803548,\n",
              "       27.49552211, 41.07011473, 28.79961048, 33.67487594, 37.06011104,\n",
              "       29.50228233, 24.77910183, 25.20853854, 24.74082434, 10.51085378,\n",
              "       18.2847568 , 36.1192305 , 17.4261313 , 48.12228393, 28.48979559,\n",
              "       41.45135775, 25.76641818, 33.90336378, 23.92106851, 38.57662958,\n",
              "       24.05860024, 43.6061932 , 48.83332031, 40.5918478 , 47.41911571,\n",
              "       49.79873238, 54.57941758, 67.48299564, 37.83291192, 45.46614905])"
            ]
          },
          "metadata": {},
          "execution_count": 24
        }
      ]
    },
    {
      "cell_type": "code",
      "source": [
        "print(arr3)\n",
        "new_array2 = np.abs(arr3 * 100)\n",
        "new_array2"
      ],
      "metadata": {
        "colab": {
          "base_uri": "https://localhost:8080/"
        },
        "id": "wuHsi_V2Fp96",
        "outputId": "cb5ea0de-493f-4533-e851-aac457ad7eff"
      },
      "execution_count": 27,
      "outputs": [
        {
          "output_type": "stream",
          "name": "stdout",
          "text": [
            "[0.72153998 0.98868093 0.43785159 0.05950565 0.81205559 0.84891331\n",
            " 0.49112825 0.73687195 0.37748197 0.00462432 0.92900389 0.81536589\n",
            " 0.43411044 0.53742046 0.81156653 0.3147773  0.59762637 0.84948754\n",
            " 0.90063032 0.17039542 0.20982231 0.43597811 0.38741962 0.78631306\n",
            " 0.57573501 0.49029311 0.09340286 0.52865929 0.23538726 0.31614302\n",
            " 0.0433329  0.06376722 0.04753596 0.55658837 0.07110983 0.40565042\n",
            " 0.45758302 0.36211431 0.91915268 0.53049246 0.77644548 0.58627511\n",
            " 0.26355941 0.1219032  0.1991548  0.18849197 0.48142093 0.23556868\n",
            " 0.65812279 0.14907104]\n"
          ]
        },
        {
          "output_type": "execute_result",
          "data": {
            "text/plain": [
              "array([72.1539976 , 98.86809261, 43.78515919,  5.95056459, 81.20555915,\n",
              "       84.89133098, 49.11282545, 73.68719487, 37.74819683,  0.46243194,\n",
              "       92.90038861, 81.53658914, 43.41104385, 53.74204576, 81.15665314,\n",
              "       31.47773043, 59.76263678, 84.9487544 , 90.06303195, 17.03954177,\n",
              "       20.982231  , 43.59781054, 38.74196194, 78.63130559, 57.57350114,\n",
              "       49.02931061,  9.34028635, 52.86592883, 23.53872601, 31.61430236,\n",
              "        4.33328963,  6.37672241,  4.75359557, 55.65883714,  7.11098261,\n",
              "       40.56504217, 45.758302  , 36.21143132, 91.91526794, 53.04924566,\n",
              "       77.64454787, 58.62751115, 26.35594146, 12.1903195 , 19.91548022,\n",
              "       18.84919713, 48.14209343, 23.55686808, 65.81227927, 14.90710415])"
            ]
          },
          "metadata": {},
          "execution_count": 27
        }
      ]
    },
    {
      "cell_type": "code",
      "source": [],
      "metadata": {
        "id": "N3R68bKWGHCK"
      },
      "execution_count": null,
      "outputs": []
    }
  ]
}