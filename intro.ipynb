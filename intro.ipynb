{
 "cells": [
  {
   "cell_type": "code",
   "execution_count": 1,
   "id": "fd8a423c-abe4-4e78-9c5c-30bcdd087a52",
   "metadata": {},
   "outputs": [
    {
     "name": "stdout",
     "output_type": "stream",
     "text": [
      "Defaulting to user installation because normal site-packages is not writeableNote: you may need to restart the kernel to use updated packages.\n",
      "\n",
      "Requirement already satisfied: numpy in c:\\users\\csjoy\\appdata\\roaming\\python\\python39\\site-packages (1.24.3)\n"
     ]
    }
   ],
   "source": [
    "pip install numpy"
   ]
  },
  {
   "cell_type": "code",
   "execution_count": 3,
   "id": "6c2dabb9-88d1-4139-b8c9-1443f3048841",
   "metadata": {},
   "outputs": [],
   "source": [
    "import numpy as np"
   ]
  },
  {
   "cell_type": "code",
   "execution_count": 5,
   "id": "5bf1a8e7-184b-4f5f-ad64-f5a3f2f61f9f",
   "metadata": {},
   "outputs": [],
   "source": [
    "arr = np.array(\n",
    "    [2, 4, 6, 8]\n",
    ")"
   ]
  },
  {
   "cell_type": "code",
   "execution_count": 6,
   "id": "585bb35d-e8ff-4c1a-a6fc-d641dd5514ab",
   "metadata": {},
   "outputs": [
    {
     "name": "stdout",
     "output_type": "stream",
     "text": [
      "[2 4 6 8]\n"
     ]
    }
   ],
   "source": [
    "print(arr)"
   ]
  },
  {
   "cell_type": "code",
   "execution_count": 7,
   "id": "bf36f6f2-8001-455a-9567-ca6132f596b9",
   "metadata": {},
   "outputs": [
    {
     "name": "stdout",
     "output_type": "stream",
     "text": [
      "<class 'numpy.ndarray'>\n"
     ]
    }
   ],
   "source": [
    "print(type(arr))"
   ]
  },
  {
   "cell_type": "code",
   "execution_count": 8,
   "id": "03956385-7e79-4863-b1c3-858214dc19be",
   "metadata": {},
   "outputs": [],
   "source": [
    "tuple = np.array((1,3,5,7,9))"
   ]
  },
  {
   "cell_type": "code",
   "execution_count": 9,
   "id": "dc5f5ad3-d0e7-4843-99a1-758163e3aa85",
   "metadata": {},
   "outputs": [
    {
     "name": "stdout",
     "output_type": "stream",
     "text": [
      "[1 3 5 7 9]\n"
     ]
    }
   ],
   "source": [
    "print(tuple)"
   ]
  },
  {
   "cell_type": "code",
   "execution_count": 10,
   "id": "b0d7fb0c-2ce8-4d89-a2f0-49e630b3396d",
   "metadata": {},
   "outputs": [
    {
     "name": "stdout",
     "output_type": "stream",
     "text": [
      "<class 'numpy.ndarray'>\n"
     ]
    }
   ],
   "source": [
    "print(type(tuple))"
   ]
  },
  {
   "cell_type": "markdown",
   "id": "ad544f87-bcc4-4170-ab3e-83039a107b0f",
   "metadata": {},
   "source": [
    "### 0-D arrays"
   ]
  },
  {
   "cell_type": "code",
   "execution_count": 21,
   "id": "245a2874-0ab7-4558-ae8e-a0e648155ae2",
   "metadata": {},
   "outputs": [
    {
     "name": "stdout",
     "output_type": "stream",
     "text": [
      "43\n"
     ]
    }
   ],
   "source": [
    "print(\n",
    "    np.array(43)\n",
    ")"
   ]
  },
  {
   "cell_type": "markdown",
   "id": "15a6e7a8-cba9-45b0-830c-2fcfbcd634ed",
   "metadata": {},
   "source": [
    "### 1-D arrays"
   ]
  },
  {
   "cell_type": "code",
   "execution_count": 19,
   "id": "8eca14c5-4a96-43a1-b2a6-0a49d2b15596",
   "metadata": {},
   "outputs": [
    {
     "name": "stdout",
     "output_type": "stream",
     "text": [
      "[1 6 9 0]\n"
     ]
    }
   ],
   "source": [
    "print(\n",
    "    np.array(\n",
    "        [1,6,9,0]\n",
    "    )\n",
    ")"
   ]
  },
  {
   "cell_type": "markdown",
   "id": "a056b95c-237a-43c8-b5b5-c7aabff25b56",
   "metadata": {},
   "source": [
    "### 2-D arrays\n",
    "note:: NumPy has a whole sub module dedicated towards matrix operations called `numpy.mat`"
   ]
  },
  {
   "cell_type": "code",
   "execution_count": 20,
   "id": "c06ee313-ede7-4487-825a-687fc024551c",
   "metadata": {},
   "outputs": [
    {
     "name": "stdout",
     "output_type": "stream",
     "text": [
      "[[1 3 4]\n",
      " [7 1 3]]\n"
     ]
    }
   ],
   "source": [
    "print(\n",
    "    np.array(\n",
    "        [\n",
    "            [1,3,4],\n",
    "            [7,1,3]\n",
    "        ]\n",
    "    )\n",
    ")"
   ]
  },
  {
   "cell_type": "markdown",
   "id": "75d63235-1ff7-42fb-858a-9098009130ff",
   "metadata": {},
   "source": [
    "### 3-D arrays"
   ]
  },
  {
   "cell_type": "code",
   "execution_count": 23,
   "id": "03082f87-9396-46c0-bb08-3c354a8da82d",
   "metadata": {},
   "outputs": [
    {
     "name": "stdout",
     "output_type": "stream",
     "text": [
      "[[[ 1  3  5]\n",
      "  [ 2  4  6]]\n",
      "\n",
      " [[-1  9  0]\n",
      "  [-5 -7 -2]]]\n"
     ]
    }
   ],
   "source": [
    "print(\n",
    "    np.array(\n",
    "        [\n",
    "            [\n",
    "                [1,3,5],\n",
    "                [2,4,6]\n",
    "            ],\n",
    "            [\n",
    "                [-1,9,0],\n",
    "                [-5,-7,-2]\n",
    "            ]\n",
    "        ]\n",
    "    )\n",
    ")"
   ]
  },
  {
   "cell_type": "markdown",
   "id": "b631ee36-8b04-42e2-b640-b918923a4748",
   "metadata": {},
   "source": [
    "#### check the number of dimensions"
   ]
  },
  {
   "cell_type": "code",
   "execution_count": 24,
   "id": "2cd7245b-8c08-4f82-ba63-93a50797c510",
   "metadata": {},
   "outputs": [],
   "source": [
    "a = np.array(7) # 0 dimension\n",
    "b = np.array([3,1,7])  # 1 dimension\n",
    "c = np.array([[1,0,6], [8,7,4]])  # 2 dimension\n",
    "d = np.array([[[4,0,-1],[6,-6,3]],[[-9,2,4],[5,1,8]]])  # 3 dimension"
   ]
  },
  {
   "cell_type": "code",
   "execution_count": 26,
   "id": "689892f3-fb28-46c0-b9c3-c81f863b0033",
   "metadata": {},
   "outputs": [
    {
     "name": "stdout",
     "output_type": "stream",
     "text": [
      "0\n",
      "1\n",
      "2\n",
      "3\n"
     ]
    }
   ],
   "source": [
    "print(a.ndim)\n",
    "print(b.ndim)\n",
    "print(c.ndim)\n",
    "print(d.ndim)"
   ]
  },
  {
   "cell_type": "markdown",
   "id": "b4d865a6-5967-4dea-a804-89c8f922f9cd",
   "metadata": {},
   "source": [
    "### Higher dimensional arrays"
   ]
  },
  {
   "cell_type": "code",
   "execution_count": 28,
   "id": "f993df59-776d-43a4-88de-ab34a06e8972",
   "metadata": {},
   "outputs": [
    {
     "name": "stdout",
     "output_type": "stream",
     "text": [
      "5\n"
     ]
    }
   ],
   "source": [
    "hd_array = np.array([6,9,1], ndmin=5)\n",
    "\n",
    "print(hd_array.ndim)"
   ]
  },
  {
   "cell_type": "code",
   "execution_count": null,
   "id": "85211f88-32b2-4d1e-99fa-7730a07ceeed",
   "metadata": {},
   "outputs": [],
   "source": []
  }
 ],
 "metadata": {
  "kernelspec": {
   "display_name": "Python 3 (ipykernel)",
   "language": "python",
   "name": "python3"
  },
  "language_info": {
   "codemirror_mode": {
    "name": "ipython",
    "version": 3
   },
   "file_extension": ".py",
   "mimetype": "text/x-python",
   "name": "python",
   "nbconvert_exporter": "python",
   "pygments_lexer": "ipython3",
   "version": "3.9.0"
  }
 },
 "nbformat": 4,
 "nbformat_minor": 5
}
