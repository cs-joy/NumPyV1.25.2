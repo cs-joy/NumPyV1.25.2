{
 "cells": [
  {
   "cell_type": "code",
   "execution_count": 1,
   "id": "fd8a423c-abe4-4e78-9c5c-30bcdd087a52",
   "metadata": {},
   "outputs": [
    {
     "name": "stdout",
     "output_type": "stream",
     "text": [
      "Defaulting to user installation because normal site-packages is not writeableNote: you may need to restart the kernel to use updated packages.\n",
      "\n",
      "Requirement already satisfied: numpy in c:\\users\\csjoy\\appdata\\roaming\\python\\python39\\site-packages (1.24.3)\n"
     ]
    }
   ],
   "source": [
    "pip install numpy"
   ]
  },
  {
   "cell_type": "code",
   "execution_count": 2,
   "id": "6c2dabb9-88d1-4139-b8c9-1443f3048841",
   "metadata": {},
   "outputs": [],
   "source": [
    "import numpy as np"
   ]
  },
  {
   "cell_type": "code",
   "execution_count": 5,
   "id": "5bf1a8e7-184b-4f5f-ad64-f5a3f2f61f9f",
   "metadata": {},
   "outputs": [],
   "source": [
    "arr = np.array(\n",
    "    [2, 4, 6, 8]\n",
    ")"
   ]
  },
  {
   "cell_type": "code",
   "execution_count": 6,
   "id": "585bb35d-e8ff-4c1a-a6fc-d641dd5514ab",
   "metadata": {},
   "outputs": [
    {
     "name": "stdout",
     "output_type": "stream",
     "text": [
      "[2 4 6 8]\n"
     ]
    }
   ],
   "source": [
    "print(arr)"
   ]
  },
  {
   "cell_type": "code",
   "execution_count": 7,
   "id": "bf36f6f2-8001-455a-9567-ca6132f596b9",
   "metadata": {},
   "outputs": [
    {
     "name": "stdout",
     "output_type": "stream",
     "text": [
      "<class 'numpy.ndarray'>\n"
     ]
    }
   ],
   "source": [
    "print(type(arr))"
   ]
  },
  {
   "cell_type": "code",
   "execution_count": 8,
   "id": "03956385-7e79-4863-b1c3-858214dc19be",
   "metadata": {},
   "outputs": [],
   "source": [
    "tuple = np.array((1,3,5,7,9))"
   ]
  },
  {
   "cell_type": "code",
   "execution_count": 9,
   "id": "dc5f5ad3-d0e7-4843-99a1-758163e3aa85",
   "metadata": {},
   "outputs": [
    {
     "name": "stdout",
     "output_type": "stream",
     "text": [
      "[1 3 5 7 9]\n"
     ]
    }
   ],
   "source": [
    "print(tuple)"
   ]
  },
  {
   "cell_type": "code",
   "execution_count": 10,
   "id": "b0d7fb0c-2ce8-4d89-a2f0-49e630b3396d",
   "metadata": {},
   "outputs": [
    {
     "name": "stdout",
     "output_type": "stream",
     "text": [
      "<class 'numpy.ndarray'>\n"
     ]
    }
   ],
   "source": [
    "print(type(tuple))"
   ]
  },
  {
   "cell_type": "markdown",
   "id": "ad544f87-bcc4-4170-ab3e-83039a107b0f",
   "metadata": {},
   "source": [
    "### 0-D arrays"
   ]
  },
  {
   "cell_type": "code",
   "execution_count": 21,
   "id": "245a2874-0ab7-4558-ae8e-a0e648155ae2",
   "metadata": {},
   "outputs": [
    {
     "name": "stdout",
     "output_type": "stream",
     "text": [
      "43\n"
     ]
    }
   ],
   "source": [
    "print(\n",
    "    np.array(43)\n",
    ")"
   ]
  },
  {
   "cell_type": "markdown",
   "id": "15a6e7a8-cba9-45b0-830c-2fcfbcd634ed",
   "metadata": {},
   "source": [
    "### 1-D arrays"
   ]
  },
  {
   "cell_type": "code",
   "execution_count": 19,
   "id": "8eca14c5-4a96-43a1-b2a6-0a49d2b15596",
   "metadata": {},
   "outputs": [
    {
     "name": "stdout",
     "output_type": "stream",
     "text": [
      "[1 6 9 0]\n"
     ]
    }
   ],
   "source": [
    "print(\n",
    "    np.array(\n",
    "        [1,6,9,0]\n",
    "    )\n",
    ")"
   ]
  },
  {
   "cell_type": "markdown",
   "id": "a056b95c-237a-43c8-b5b5-c7aabff25b56",
   "metadata": {},
   "source": [
    "### 2-D arrays\n",
    "note:: NumPy has a whole sub module dedicated towards matrix operations called `numpy.mat`"
   ]
  },
  {
   "cell_type": "code",
   "execution_count": 20,
   "id": "c06ee313-ede7-4487-825a-687fc024551c",
   "metadata": {},
   "outputs": [
    {
     "name": "stdout",
     "output_type": "stream",
     "text": [
      "[[1 3 4]\n",
      " [7 1 3]]\n"
     ]
    }
   ],
   "source": [
    "print(\n",
    "    np.array(\n",
    "        [\n",
    "            [1,3,4],\n",
    "            [7,1,3]\n",
    "        ]\n",
    "    )\n",
    ")"
   ]
  },
  {
   "cell_type": "markdown",
   "id": "75d63235-1ff7-42fb-858a-9098009130ff",
   "metadata": {},
   "source": [
    "### 3-D arrays"
   ]
  },
  {
   "cell_type": "code",
   "execution_count": 23,
   "id": "03082f87-9396-46c0-bb08-3c354a8da82d",
   "metadata": {},
   "outputs": [
    {
     "name": "stdout",
     "output_type": "stream",
     "text": [
      "[[[ 1  3  5]\n",
      "  [ 2  4  6]]\n",
      "\n",
      " [[-1  9  0]\n",
      "  [-5 -7 -2]]]\n"
     ]
    }
   ],
   "source": [
    "print(\n",
    "    np.array(\n",
    "        [\n",
    "            [\n",
    "                [1,3,5],\n",
    "                [2,4,6]\n",
    "            ],\n",
    "            [\n",
    "                [-1,9,0],\n",
    "                [-5,-7,-2]\n",
    "            ]\n",
    "        ]\n",
    "    )\n",
    ")"
   ]
  },
  {
   "cell_type": "markdown",
   "id": "b631ee36-8b04-42e2-b640-b918923a4748",
   "metadata": {},
   "source": [
    "#### check the number of dimensions"
   ]
  },
  {
   "cell_type": "code",
   "execution_count": 24,
   "id": "2cd7245b-8c08-4f82-ba63-93a50797c510",
   "metadata": {},
   "outputs": [],
   "source": [
    "a = np.array(7) # 0 dimension\n",
    "b = np.array([3,1,7])  # 1 dimension\n",
    "c = np.array([[1,0,6], [8,7,4]])  # 2 dimension\n",
    "d = np.array([[[4,0,-1],[6,-6,3]],[[-9,2,4],[5,1,8]]])  # 3 dimension"
   ]
  },
  {
   "cell_type": "code",
   "execution_count": 26,
   "id": "689892f3-fb28-46c0-b9c3-c81f863b0033",
   "metadata": {},
   "outputs": [
    {
     "name": "stdout",
     "output_type": "stream",
     "text": [
      "0\n",
      "1\n",
      "2\n",
      "3\n"
     ]
    }
   ],
   "source": [
    "print(a.ndim)\n",
    "print(b.ndim)\n",
    "print(c.ndim)\n",
    "print(d.ndim)"
   ]
  },
  {
   "cell_type": "markdown",
   "id": "b4d865a6-5967-4dea-a804-89c8f922f9cd",
   "metadata": {},
   "source": [
    "### Higher dimensional arrays"
   ]
  },
  {
   "cell_type": "code",
   "execution_count": 28,
   "id": "f993df59-776d-43a4-88de-ab34a06e8972",
   "metadata": {},
   "outputs": [
    {
     "name": "stdout",
     "output_type": "stream",
     "text": [
      "5\n"
     ]
    }
   ],
   "source": [
    "hd_array = np.array([6,9,1], ndmin=5)\n",
    "\n",
    "print(hd_array.ndim)"
   ]
  },
  {
   "cell_type": "markdown",
   "id": "4b74468d-1ee4-4b3a-b2e7-c06399b9111b",
   "metadata": {},
   "source": [
    "### Array indexing"
   ]
  },
  {
   "cell_type": "code",
   "execution_count": 3,
   "id": "8ba236b5-0620-4569-93b2-67d0420539db",
   "metadata": {},
   "outputs": [],
   "source": [
    "my_arr = np.array([3,1,8,2])"
   ]
  },
  {
   "cell_type": "code",
   "execution_count": 4,
   "id": "c6032498-0be6-481f-812c-352aec51435b",
   "metadata": {},
   "outputs": [
    {
     "name": "stdout",
     "output_type": "stream",
     "text": [
      "3\n"
     ]
    }
   ],
   "source": [
    "print(\n",
    "    my_arr[0]\n",
    ")"
   ]
  },
  {
   "cell_type": "code",
   "execution_count": 6,
   "id": "d3c32b5b-6e88-47e1-93ab-2543a03c2aa0",
   "metadata": {},
   "outputs": [
    {
     "name": "stdout",
     "output_type": "stream",
     "text": [
      "9\n"
     ]
    }
   ],
   "source": [
    "# adding two elements of the array\n",
    "print(\n",
    "    my_arr[1] + my_arr[2]\n",
    ")"
   ]
  },
  {
   "cell_type": "code",
   "execution_count": 7,
   "id": "39da96c1-93b5-4c06-9e61-cc5d39f71854",
   "metadata": {},
   "outputs": [],
   "source": [
    "# 2-d array\n",
    "trr = np.array([[2,6,9], [1,0,4]])"
   ]
  },
  {
   "cell_type": "code",
   "execution_count": 10,
   "id": "8cf4291d-28b7-4ebf-89ac-9582ef45b371",
   "metadata": {},
   "outputs": [
    {
     "name": "stdout",
     "output_type": "stream",
     "text": [
      "[2 6 9]\n"
     ]
    }
   ],
   "source": [
    "print(\n",
    "    trr[0] # [2 6 9]\n",
    ")"
   ]
  },
  {
   "cell_type": "code",
   "execution_count": 11,
   "id": "e06c2737-8139-4755-8ef4-31e1f257a764",
   "metadata": {},
   "outputs": [
    {
     "name": "stdout",
     "output_type": "stream",
     "text": [
      "6\n"
     ]
    }
   ],
   "source": [
    "print(\n",
    "    trr[0, 1] #6\n",
    ")"
   ]
  },
  {
   "cell_type": "code",
   "execution_count": 13,
   "id": "42337a1c-0447-45a5-9fb0-a5f54eba4440",
   "metadata": {},
   "outputs": [
    {
     "name": "stdout",
     "output_type": "stream",
     "text": [
      "0\n"
     ]
    }
   ],
   "source": [
    "print(\n",
    "    trr[1, 1] # 0\n",
    ")"
   ]
  },
  {
   "cell_type": "code",
   "execution_count": 17,
   "id": "324faa4c-ca6f-4166-84e7-a9949669bfb6",
   "metadata": {},
   "outputs": [],
   "source": [
    "# access 3-d arrays\n",
    "\n",
    "three_arr = np.array(\n",
    "    [\n",
    "        [\n",
    "            [-3, 5, 1],\n",
    "            [7, 2, 6]\n",
    "        ],\n",
    "        [\n",
    "            [4,-5,3],\n",
    "            [-6,7,9]\n",
    "        ]\n",
    "    ]\n",
    ")"
   ]
  },
  {
   "cell_type": "code",
   "execution_count": 20,
   "id": "7c5d6d39-4209-4df7-aa84-966fa2ec120d",
   "metadata": {},
   "outputs": [
    {
     "name": "stdout",
     "output_type": "stream",
     "text": [
      "6\n"
     ]
    }
   ],
   "source": [
    "print(\n",
    "    three_arr[0, 1, 2]\n",
    ")"
   ]
  },
  {
   "cell_type": "code",
   "execution_count": 22,
   "id": "cad49886-ee17-4134-b6c6-456595dcd5a9",
   "metadata": {},
   "outputs": [],
   "source": [
    "sudoku = np.array(\n",
    "    [\n",
    "        [\n",
    "            [\n",
    "                [1,2,6],\n",
    "                [4,3,8],\n",
    "                [0,9,5]\n",
    "            ],\n",
    "            [\n",
    "                [4,9,-6],\n",
    "                [-1,2,7],\n",
    "                [6,-5,-3]\n",
    "            ],\n",
    "            [\n",
    "                [3,50,7],\n",
    "                [5,9,80],\n",
    "                [29,1,92]\n",
    "            ]\n",
    "        ],\n",
    "        [\n",
    "            [\n",
    "                [99,19,41],\n",
    "                [57,36,22],\n",
    "                [30,15,12]\n",
    "            ],\n",
    "            [\n",
    "                [30,41,45],\n",
    "                [60,69,71],\n",
    "                [76,82,66]\n",
    "            ],\n",
    "            [\n",
    "                [35,50,55],\n",
    "                [75,80,96],\n",
    "                [36,35,18]\n",
    "            ]\n",
    "        ],\n",
    "        [\n",
    "            [\n",
    "                [63,51,79],\n",
    "                [77,49,81],\n",
    "                [27,87,95]\n",
    "            ],\n",
    "            [\n",
    "                [20,12,14],\n",
    "                [22,28,67],\n",
    "                [8,11,10]\n",
    "            ],\n",
    "            [\n",
    "                [41,3,33],\n",
    "                [5,54,52],\n",
    "                [2,6,9]\n",
    "            ]\n",
    "        ]\n",
    "    ]\n",
    ")"
   ]
  },
  {
   "cell_type": "code",
   "execution_count": 23,
   "id": "53267115-3b64-4a99-ac96-e4ee7c3271dc",
   "metadata": {},
   "outputs": [
    {
     "name": "stdout",
     "output_type": "stream",
     "text": [
      "69\n"
     ]
    }
   ],
   "source": [
    "print(\n",
    "    sudoku[1,1,1,1]\n",
    ")"
   ]
  },
  {
   "cell_type": "code",
   "execution_count": 24,
   "id": "1581e63e-8018-43d7-9c91-db7d0d97d3d6",
   "metadata": {},
   "outputs": [
    {
     "name": "stdout",
     "output_type": "stream",
     "text": [
      "79\n"
     ]
    }
   ],
   "source": [
    "print(\n",
    "    sudoku[2,0,0,2] # 79\n",
    ")"
   ]
  },
  {
   "cell_type": "code",
   "execution_count": 29,
   "id": "17f2dc2c-5a8a-412a-b9a6-54d982dc7aa5",
   "metadata": {},
   "outputs": [],
   "source": [
    "# negative indexing\n",
    "\n",
    "narr = np.array(\n",
    "    [\n",
    "        [3,8,1,0,4,7],\n",
    "        [7,1,5,9,2,6]\n",
    "    ]\n",
    ")"
   ]
  },
  {
   "cell_type": "code",
   "execution_count": 30,
   "id": "aa0f09ff-6f0d-430b-8b70-04d1845e39c4",
   "metadata": {},
   "outputs": [
    {
     "name": "stdout",
     "output_type": "stream",
     "text": [
      "9\n"
     ]
    }
   ],
   "source": [
    "print(\n",
    "    narr[1,-3]\n",
    ")"
   ]
  },
  {
   "cell_type": "code",
   "execution_count": null,
   "id": "c3c1f035-3493-449d-9539-9f23653c4183",
   "metadata": {},
   "outputs": [],
   "source": []
  }
 ],
 "metadata": {
  "kernelspec": {
   "display_name": "Python 3 (ipykernel)",
   "language": "python",
   "name": "python3"
  },
  "language_info": {
   "codemirror_mode": {
    "name": "ipython",
    "version": 3
   },
   "file_extension": ".py",
   "mimetype": "text/x-python",
   "name": "python",
   "nbconvert_exporter": "python",
   "pygments_lexer": "ipython3",
   "version": "3.9.0"
  }
 },
 "nbformat": 4,
 "nbformat_minor": 5
}
