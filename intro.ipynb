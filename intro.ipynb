{
 "cells": [
  {
   "cell_type": "code",
   "execution_count": 48,
   "id": "fd8a423c-abe4-4e78-9c5c-30bcdd087a52",
   "metadata": {},
   "outputs": [
    {
     "name": "stdout",
     "output_type": "stream",
     "text": [
      "Defaulting to user installation because normal site-packages is not writeable\n",
      "Requirement already satisfied: numpy in c:\\users\\csjoy\\appdata\\roaming\\python\\python39\\site-packages (1.24.3)\n",
      "Note: you may need to restart the kernel to use updated packages.\n"
     ]
    }
   ],
   "source": [
    "pip install numpy"
   ]
  },
  {
   "cell_type": "code",
   "execution_count": 49,
   "id": "6c2dabb9-88d1-4139-b8c9-1443f3048841",
   "metadata": {},
   "outputs": [],
   "source": [
    "import numpy as np"
   ]
  },
  {
   "cell_type": "code",
   "execution_count": 50,
   "id": "5bf1a8e7-184b-4f5f-ad64-f5a3f2f61f9f",
   "metadata": {},
   "outputs": [],
   "source": [
    "arr = np.array(\n",
    "    [2, 4, 6, 8]\n",
    ")"
   ]
  },
  {
   "cell_type": "code",
   "execution_count": 51,
   "id": "585bb35d-e8ff-4c1a-a6fc-d641dd5514ab",
   "metadata": {},
   "outputs": [
    {
     "name": "stdout",
     "output_type": "stream",
     "text": [
      "[2 4 6 8]\n"
     ]
    }
   ],
   "source": [
    "print(arr)"
   ]
  },
  {
   "cell_type": "code",
   "execution_count": 52,
   "id": "bf36f6f2-8001-455a-9567-ca6132f596b9",
   "metadata": {},
   "outputs": [
    {
     "name": "stdout",
     "output_type": "stream",
     "text": [
      "<class 'numpy.ndarray'>\n"
     ]
    }
   ],
   "source": [
    "print(type(arr))"
   ]
  },
  {
   "cell_type": "code",
   "execution_count": 53,
   "id": "03956385-7e79-4863-b1c3-858214dc19be",
   "metadata": {},
   "outputs": [],
   "source": [
    "tuple = np.array((1,3,5,7,9))"
   ]
  },
  {
   "cell_type": "code",
   "execution_count": 54,
   "id": "dc5f5ad3-d0e7-4843-99a1-758163e3aa85",
   "metadata": {},
   "outputs": [
    {
     "name": "stdout",
     "output_type": "stream",
     "text": [
      "[1 3 5 7 9]\n"
     ]
    }
   ],
   "source": [
    "print(tuple)"
   ]
  },
  {
   "cell_type": "code",
   "execution_count": 55,
   "id": "b0d7fb0c-2ce8-4d89-a2f0-49e630b3396d",
   "metadata": {},
   "outputs": [
    {
     "name": "stdout",
     "output_type": "stream",
     "text": [
      "<class 'numpy.ndarray'>\n"
     ]
    }
   ],
   "source": [
    "print(type(tuple))"
   ]
  },
  {
   "cell_type": "markdown",
   "id": "ad544f87-bcc4-4170-ab3e-83039a107b0f",
   "metadata": {},
   "source": [
    "### 0-D arrays"
   ]
  },
  {
   "cell_type": "code",
   "execution_count": 56,
   "id": "245a2874-0ab7-4558-ae8e-a0e648155ae2",
   "metadata": {},
   "outputs": [
    {
     "name": "stdout",
     "output_type": "stream",
     "text": [
      "43\n"
     ]
    }
   ],
   "source": [
    "print(\n",
    "    np.array(43)\n",
    ")"
   ]
  },
  {
   "cell_type": "markdown",
   "id": "15a6e7a8-cba9-45b0-830c-2fcfbcd634ed",
   "metadata": {},
   "source": [
    "### 1-D arrays"
   ]
  },
  {
   "cell_type": "code",
   "execution_count": 57,
   "id": "8eca14c5-4a96-43a1-b2a6-0a49d2b15596",
   "metadata": {},
   "outputs": [
    {
     "name": "stdout",
     "output_type": "stream",
     "text": [
      "[1 6 9 0]\n"
     ]
    }
   ],
   "source": [
    "print(\n",
    "    np.array(\n",
    "        [1,6,9,0]\n",
    "    )\n",
    ")"
   ]
  },
  {
   "cell_type": "markdown",
   "id": "a056b95c-237a-43c8-b5b5-c7aabff25b56",
   "metadata": {},
   "source": [
    "### 2-D arrays\n",
    "note:: NumPy has a whole sub module dedicated towards matrix operations called `numpy.mat`"
   ]
  },
  {
   "cell_type": "code",
   "execution_count": 58,
   "id": "c06ee313-ede7-4487-825a-687fc024551c",
   "metadata": {},
   "outputs": [
    {
     "name": "stdout",
     "output_type": "stream",
     "text": [
      "[[1 3 4]\n",
      " [7 1 3]]\n"
     ]
    }
   ],
   "source": [
    "print(\n",
    "    np.array(\n",
    "        [\n",
    "            [1,3,4],\n",
    "            [7,1,3]\n",
    "        ]\n",
    "    )\n",
    ")"
   ]
  },
  {
   "cell_type": "markdown",
   "id": "75d63235-1ff7-42fb-858a-9098009130ff",
   "metadata": {},
   "source": [
    "### 3-D arrays"
   ]
  },
  {
   "cell_type": "code",
   "execution_count": 59,
   "id": "03082f87-9396-46c0-bb08-3c354a8da82d",
   "metadata": {},
   "outputs": [
    {
     "name": "stdout",
     "output_type": "stream",
     "text": [
      "[[[ 1  3  5]\n",
      "  [ 2  4  6]]\n",
      "\n",
      " [[-1  9  0]\n",
      "  [-5 -7 -2]]]\n"
     ]
    }
   ],
   "source": [
    "print(\n",
    "    np.array(\n",
    "        [\n",
    "            [\n",
    "                [1,3,5],\n",
    "                [2,4,6]\n",
    "            ],\n",
    "            [\n",
    "                [-1,9,0],\n",
    "                [-5,-7,-2]\n",
    "            ]\n",
    "        ]\n",
    "    )\n",
    ")"
   ]
  },
  {
   "cell_type": "markdown",
   "id": "b631ee36-8b04-42e2-b640-b918923a4748",
   "metadata": {},
   "source": [
    "#### check the number of dimensions"
   ]
  },
  {
   "cell_type": "code",
   "execution_count": 60,
   "id": "2cd7245b-8c08-4f82-ba63-93a50797c510",
   "metadata": {},
   "outputs": [],
   "source": [
    "a = np.array(7) # 0 dimension\n",
    "b = np.array([3,1,7])  # 1 dimension\n",
    "c = np.array([[1,0,6], [8,7,4]])  # 2 dimension\n",
    "d = np.array([[[4,0,-1],[6,-6,3]],[[-9,2,4],[5,1,8]]])  # 3 dimension"
   ]
  },
  {
   "cell_type": "code",
   "execution_count": 61,
   "id": "689892f3-fb28-46c0-b9c3-c81f863b0033",
   "metadata": {},
   "outputs": [
    {
     "name": "stdout",
     "output_type": "stream",
     "text": [
      "0\n",
      "1\n",
      "2\n",
      "3\n"
     ]
    }
   ],
   "source": [
    "print(a.ndim)\n",
    "print(b.ndim)\n",
    "print(c.ndim)\n",
    "print(d.ndim)"
   ]
  },
  {
   "cell_type": "markdown",
   "id": "b4d865a6-5967-4dea-a804-89c8f922f9cd",
   "metadata": {},
   "source": [
    "### Higher dimensional arrays"
   ]
  },
  {
   "cell_type": "code",
   "execution_count": 62,
   "id": "f993df59-776d-43a4-88de-ab34a06e8972",
   "metadata": {},
   "outputs": [
    {
     "name": "stdout",
     "output_type": "stream",
     "text": [
      "5\n"
     ]
    }
   ],
   "source": [
    "hd_array = np.array([6,9,1], ndmin=5)\n",
    "\n",
    "print(hd_array.ndim)"
   ]
  },
  {
   "cell_type": "markdown",
   "id": "4b74468d-1ee4-4b3a-b2e7-c06399b9111b",
   "metadata": {},
   "source": [
    "### Array indexing"
   ]
  },
  {
   "cell_type": "code",
   "execution_count": 63,
   "id": "8ba236b5-0620-4569-93b2-67d0420539db",
   "metadata": {},
   "outputs": [],
   "source": [
    "my_arr = np.array([3,1,8,2])"
   ]
  },
  {
   "cell_type": "code",
   "execution_count": 64,
   "id": "c6032498-0be6-481f-812c-352aec51435b",
   "metadata": {},
   "outputs": [
    {
     "name": "stdout",
     "output_type": "stream",
     "text": [
      "3\n"
     ]
    }
   ],
   "source": [
    "print(\n",
    "    my_arr[0]\n",
    ")"
   ]
  },
  {
   "cell_type": "code",
   "execution_count": 65,
   "id": "d3c32b5b-6e88-47e1-93ab-2543a03c2aa0",
   "metadata": {},
   "outputs": [
    {
     "name": "stdout",
     "output_type": "stream",
     "text": [
      "9\n"
     ]
    }
   ],
   "source": [
    "# adding two elements of the array\n",
    "print(\n",
    "    my_arr[1] + my_arr[2]\n",
    ")"
   ]
  },
  {
   "cell_type": "code",
   "execution_count": 66,
   "id": "39da96c1-93b5-4c06-9e61-cc5d39f71854",
   "metadata": {},
   "outputs": [],
   "source": [
    "# 2-d array\n",
    "trr = np.array([[2,6,9], [1,0,4]])"
   ]
  },
  {
   "cell_type": "code",
   "execution_count": 67,
   "id": "8cf4291d-28b7-4ebf-89ac-9582ef45b371",
   "metadata": {},
   "outputs": [
    {
     "name": "stdout",
     "output_type": "stream",
     "text": [
      "[2 6 9]\n"
     ]
    }
   ],
   "source": [
    "print(\n",
    "    trr[0] # [2 6 9]\n",
    ")"
   ]
  },
  {
   "cell_type": "code",
   "execution_count": 68,
   "id": "e06c2737-8139-4755-8ef4-31e1f257a764",
   "metadata": {},
   "outputs": [
    {
     "name": "stdout",
     "output_type": "stream",
     "text": [
      "6\n"
     ]
    }
   ],
   "source": [
    "print(\n",
    "    trr[0, 1] #6\n",
    ")"
   ]
  },
  {
   "cell_type": "code",
   "execution_count": 69,
   "id": "42337a1c-0447-45a5-9fb0-a5f54eba4440",
   "metadata": {},
   "outputs": [
    {
     "name": "stdout",
     "output_type": "stream",
     "text": [
      "0\n"
     ]
    }
   ],
   "source": [
    "print(\n",
    "    trr[1, 1] # 0\n",
    ")"
   ]
  },
  {
   "cell_type": "code",
   "execution_count": 70,
   "id": "324faa4c-ca6f-4166-84e7-a9949669bfb6",
   "metadata": {},
   "outputs": [],
   "source": [
    "# access 3-d arrays\n",
    "\n",
    "three_arr = np.array(\n",
    "    [\n",
    "        [\n",
    "            [-3, 5, 1],\n",
    "            [7, 2, 6]\n",
    "        ],\n",
    "        [\n",
    "            [4,-5,3],\n",
    "            [-6,7,9]\n",
    "        ]\n",
    "    ]\n",
    ")"
   ]
  },
  {
   "cell_type": "code",
   "execution_count": 71,
   "id": "7c5d6d39-4209-4df7-aa84-966fa2ec120d",
   "metadata": {},
   "outputs": [
    {
     "name": "stdout",
     "output_type": "stream",
     "text": [
      "6\n"
     ]
    }
   ],
   "source": [
    "print(\n",
    "    three_arr[0, 1, 2]\n",
    ")"
   ]
  },
  {
   "cell_type": "code",
   "execution_count": 72,
   "id": "cad49886-ee17-4134-b6c6-456595dcd5a9",
   "metadata": {},
   "outputs": [],
   "source": [
    "sudoku = np.array(\n",
    "    [\n",
    "        [\n",
    "            [\n",
    "                [1,2,6],\n",
    "                [4,3,8],\n",
    "                [0,9,5]\n",
    "            ],\n",
    "            [\n",
    "                [4,9,-6],\n",
    "                [-1,2,7],\n",
    "                [6,-5,-3]\n",
    "            ],\n",
    "            [\n",
    "                [3,50,7],\n",
    "                [5,9,80],\n",
    "                [29,1,92]\n",
    "            ]\n",
    "        ],\n",
    "        [\n",
    "            [\n",
    "                [99,19,41],\n",
    "                [57,36,22],\n",
    "                [30,15,12]\n",
    "            ],\n",
    "            [\n",
    "                [30,41,45],\n",
    "                [60,69,71],\n",
    "                [76,82,66]\n",
    "            ],\n",
    "            [\n",
    "                [35,50,55],\n",
    "                [75,80,96],\n",
    "                [36,35,18]\n",
    "            ]\n",
    "        ],\n",
    "        [\n",
    "            [\n",
    "                [63,51,79],\n",
    "                [77,49,81],\n",
    "                [27,87,95]\n",
    "            ],\n",
    "            [\n",
    "                [20,12,14],\n",
    "                [22,28,67],\n",
    "                [8,11,10]\n",
    "            ],\n",
    "            [\n",
    "                [41,3,33],\n",
    "                [5,54,52],\n",
    "                [2,6,9]\n",
    "            ]\n",
    "        ]\n",
    "    ]\n",
    ")"
   ]
  },
  {
   "cell_type": "code",
   "execution_count": 73,
   "id": "53267115-3b64-4a99-ac96-e4ee7c3271dc",
   "metadata": {},
   "outputs": [
    {
     "name": "stdout",
     "output_type": "stream",
     "text": [
      "69\n"
     ]
    }
   ],
   "source": [
    "print(\n",
    "    sudoku[1,1,1,1]\n",
    ")"
   ]
  },
  {
   "cell_type": "code",
   "execution_count": 74,
   "id": "1581e63e-8018-43d7-9c91-db7d0d97d3d6",
   "metadata": {},
   "outputs": [
    {
     "name": "stdout",
     "output_type": "stream",
     "text": [
      "79\n"
     ]
    }
   ],
   "source": [
    "print(\n",
    "    sudoku[2,0,0,2] # 79\n",
    ")"
   ]
  },
  {
   "cell_type": "code",
   "execution_count": 75,
   "id": "17f2dc2c-5a8a-412a-b9a6-54d982dc7aa5",
   "metadata": {},
   "outputs": [],
   "source": [
    "# negative indexing\n",
    "\n",
    "narr = np.array(\n",
    "    [\n",
    "        [3,8,1,0,4,7],\n",
    "        [7,1,5,9,2,6]\n",
    "    ]\n",
    ")"
   ]
  },
  {
   "cell_type": "code",
   "execution_count": 76,
   "id": "aa0f09ff-6f0d-430b-8b70-04d1845e39c4",
   "metadata": {},
   "outputs": [
    {
     "name": "stdout",
     "output_type": "stream",
     "text": [
      "9\n"
     ]
    }
   ],
   "source": [
    "print(\n",
    "    narr[1,-3]\n",
    ")"
   ]
  },
  {
   "cell_type": "markdown",
   "id": "e689d62f-b8a5-4879-97fc-c30fcdcda0a9",
   "metadata": {},
   "source": [
    "### Array Slicing"
   ]
  },
  {
   "cell_type": "code",
   "execution_count": 77,
   "id": "4b608674-b61b-4b7b-8c9b-e6db99a26470",
   "metadata": {},
   "outputs": [
    {
     "name": "stdout",
     "output_type": "stream",
     "text": [
      "[4 6 8]\n",
      "[2 4 6]\n",
      "[ 8 10 12]\n"
     ]
    }
   ],
   "source": [
    "arr = np.array(\n",
    "    [2,4,6,8,10,12]\n",
    ")\n",
    "\n",
    "print(arr[1:4]) # Note: The result includes the start index, but excludes the end index.\n",
    "print(arr[:3])\n",
    "print(arr[3:])"
   ]
  },
  {
   "cell_type": "code",
   "execution_count": 78,
   "id": "6dc06388-d404-4e50-8cd0-9e6fd05dc863",
   "metadata": {},
   "outputs": [
    {
     "name": "stdout",
     "output_type": "stream",
     "text": [
      "[1 3 6]\n"
     ]
    }
   ],
   "source": [
    "# negative slicing\n",
    "\n",
    "brr = np.array(\n",
    "    [2,1,3,6,9,11]\n",
    ")\n",
    "\n",
    "print(brr[-5:-2]) # Note: The result includes the start index, but excludes the end index."
   ]
  },
  {
   "cell_type": "code",
   "execution_count": 79,
   "id": "b6fda373-2fac-4cd5-9ae3-dc2162fed6b6",
   "metadata": {},
   "outputs": [
    {
     "name": "stdout",
     "output_type": "stream",
     "text": [
      "[ 3  5  7  9 11 13 17]\n",
      "[ 3  7 11 17]\n",
      "[-5  5 11 42]\n"
     ]
    }
   ],
   "source": [
    "# step\n",
    "srr = np.array(\n",
    "    [-5,1,3,5,7,9,11,13,17,42,91]\n",
    ")\n",
    "\n",
    "print(srr[2:9:1])\n",
    "print(srr[2:9:2])\n",
    "print(srr[::3])"
   ]
  },
  {
   "cell_type": "code",
   "execution_count": 80,
   "id": "b650de77-e410-4727-a6d1-fe05853d7b96",
   "metadata": {},
   "outputs": [
    {
     "name": "stdout",
     "output_type": "stream",
     "text": [
      "[7 8 9]\n",
      "[3 8]\n",
      "[[2 3 4]\n",
      " [7 8 9]]\n"
     ]
    }
   ],
   "source": [
    "#######         Slicing 2-D arrays          #########\n",
    "\n",
    "trr= np.array(\n",
    "    [\n",
    "        [1,2,3,4,5],\n",
    "        [6,7,8,9,10]\n",
    "    ]\n",
    ")\n",
    "\n",
    "print(trr[1, 1:4])\n",
    "\n",
    "# from both elements\n",
    "print(trr[0:2, 2])\n",
    "\n",
    "# From both elements, slice index 1 to index 4 (not included), this will return a 2-D array:\n",
    "print(trr[0:2, 1:4])\n"
   ]
  },
  {
   "cell_type": "markdown",
   "id": "cbefdebc-4a9c-4e5f-b6df-94cd08cef0b5",
   "metadata": {},
   "source": [
    "### Execise"
   ]
  },
  {
   "cell_type": "code",
   "execution_count": 81,
   "id": "ae33c098-7403-48b4-ae6a-94986e3095be",
   "metadata": {},
   "outputs": [
    {
     "name": "stdout",
     "output_type": "stream",
     "text": [
      "[15 20 25]\n"
     ]
    }
   ],
   "source": [
    "# 1\n",
    "'''\n",
    "Insert the correct slicing syntax to print the following selection of the array:\n",
    "\n",
    "Everything from (including) the second item to (not including) the fifth item.\n",
    "\n",
    "arr = np.array([10, 15, 20, 25, 30, 35, 40])\n",
    "\n",
    "print(arr[?])\n",
    "'''\n",
    "arr = np.array([10, 15, 20, 25, 30, 35, 40])\n",
    "print(arr[1:4])"
   ]
  },
  {
   "cell_type": "code",
   "execution_count": 82,
   "id": "b1745e35-14fa-47c5-b4cb-bd7ce6f0598f",
   "metadata": {},
   "outputs": [
    {
     "name": "stdout",
     "output_type": "stream",
     "text": [
      "[20 25]\n"
     ]
    }
   ],
   "source": [
    "# 2\n",
    "'''\n",
    "Insert the correct slicing syntax to print the following selection of the array:\n",
    "\n",
    "Everything from (including) the third item to (not including) the fifth item.\n",
    "\n",
    "arr = np.array([10, 15, 20, 25, 30, 35, 40])\n",
    "\n",
    "print(arr[?])\n",
    "'''\n",
    "\n",
    "arr = np.array([10, 15, 20, 25, 30, 35, 40])\n",
    "print(arr[2:4])"
   ]
  },
  {
   "cell_type": "code",
   "execution_count": 83,
   "id": "b1015379-4ebc-406c-8288-9bfb265408d7",
   "metadata": {},
   "outputs": [
    {
     "name": "stdout",
     "output_type": "stream",
     "text": [
      "[15 25]\n"
     ]
    }
   ],
   "source": [
    "# 3\n",
    "'''\n",
    "Insert the correct slicing syntax to print the following selection of the array:\n",
    "\n",
    "Every other item from (including) the second item to (not including) the fifth item.\n",
    "\n",
    "Tip: use the step syntax.\n",
    "\n",
    "arr = np.array([10, 15, 20, 25, 30, 35, 40])\n",
    "\n",
    "print(arr[?])\n",
    "'''\n",
    "\n",
    "arr = np.array([10, 15, 20, 25, 30, 35, 40])\n",
    "print(arr[1:4:2])"
   ]
  },
  {
   "cell_type": "code",
   "execution_count": 84,
   "id": "84b35690-6069-418c-bdd5-31c3aceb9278",
   "metadata": {},
   "outputs": [
    {
     "name": "stdout",
     "output_type": "stream",
     "text": [
      "[10 20 30 40]\n"
     ]
    }
   ],
   "source": [
    "# 4\n",
    "'''\n",
    "Insert the correct slicing syntax to print the following selection of the array:\n",
    "\n",
    "Every other item from the entire array.\n",
    "\n",
    "Tip: use the step syntax.\n",
    "\n",
    "\n",
    "arr = np.array([10, 15, 20, 25, 30, 35, 40])\n",
    "\n",
    "print(arr[?])\n",
    "'''\n",
    "\n",
    "arr = np.array([10, 15, 20, 25, 30, 35, 40])\n",
    "\n",
    "print(arr[::2])"
   ]
  },
  {
   "cell_type": "markdown",
   "id": "111b24f3-9af6-4a3e-aabf-efd7693378ae",
   "metadata": {},
   "source": [
    "### Data Types\n",
    "\n",
    "- i - integer\n",
    "- b - boolean\n",
    "- u - unsigned integer\n",
    "- f - float\n",
    "- c - complex float\n",
    "- m - timedelta\n",
    "- M - datetime\n",
    "- O - object\n",
    "- S - string\n",
    "- U - unicode string\n",
    "- V - fixed chunk of memory for other type ( void )"
   ]
  },
  {
   "cell_type": "code",
   "execution_count": 85,
   "id": "10ccd26d-a241-45ae-8db7-098dc7bd6162",
   "metadata": {},
   "outputs": [
    {
     "data": {
      "text/plain": [
       "dtype('int32')"
      ]
     },
     "execution_count": 85,
     "metadata": {},
     "output_type": "execute_result"
    }
   ],
   "source": [
    "# Checking the Data Type of an Array\n",
    "\n",
    "A = np.array([3,1,6,2])\n",
    "\n",
    "A.dtype"
   ]
  },
  {
   "cell_type": "code",
   "execution_count": 86,
   "id": "1daa0c24-f5ae-4e92-9b90-5bb6abd5052b",
   "metadata": {},
   "outputs": [
    {
     "data": {
      "text/plain": [
       "dtype('<U6')"
      ]
     },
     "execution_count": 86,
     "metadata": {},
     "output_type": "execute_result"
    }
   ],
   "source": [
    "B = np.array(['apple', 'orange', 'banana'])\n",
    "\n",
    "B.dtype"
   ]
  },
  {
   "cell_type": "code",
   "execution_count": 87,
   "id": "676ae2f5-cc55-4f8f-862d-8172a97f384b",
   "metadata": {},
   "outputs": [
    {
     "data": {
      "text/plain": [
       "dtype('S6')"
      ]
     },
     "execution_count": 87,
     "metadata": {},
     "output_type": "execute_result"
    }
   ],
   "source": [
    "# defined data types\n",
    "C = np.array(['apple', 'orange', 'banana'], dtype='S')\n",
    "\n",
    "C.dtype"
   ]
  },
  {
   "cell_type": "code",
   "execution_count": 88,
   "id": "0c7e1f6a-1c93-4035-9be1-36e2a503ef99",
   "metadata": {},
   "outputs": [
    {
     "data": {
      "text/plain": [
       "dtype('int32')"
      ]
     },
     "execution_count": 88,
     "metadata": {},
     "output_type": "execute_result"
    }
   ],
   "source": [
    "## data types 4 bytes integer\n",
    "\n",
    "D = np.array([2, 1, 6, 9, 3, 10], dtype='i4')\n",
    "\n",
    "D.dtype"
   ]
  },
  {
   "cell_type": "code",
   "execution_count": 89,
   "id": "6cc71951-9685-4e9a-8c6c-4d893297c583",
   "metadata": {},
   "outputs": [
    {
     "ename": "ValueError",
     "evalue": "invalid literal for int() with base 10: 'a'",
     "output_type": "error",
     "traceback": [
      "\u001b[1;31m---------------------------------------------------------------------------\u001b[0m",
      "\u001b[1;31mValueError\u001b[0m                                Traceback (most recent call last)",
      "Cell \u001b[1;32mIn[89], line 1\u001b[0m\n\u001b[1;32m----> 1\u001b[0m E \u001b[38;5;241m=\u001b[39m \u001b[43mnp\u001b[49m\u001b[38;5;241;43m.\u001b[39;49m\u001b[43marray\u001b[49m\u001b[43m(\u001b[49m\u001b[43m[\u001b[49m\u001b[38;5;124;43m'\u001b[39;49m\u001b[38;5;124;43ma\u001b[39;49m\u001b[38;5;124;43m'\u001b[39;49m\u001b[43m,\u001b[49m\u001b[43m \u001b[49m\u001b[38;5;124;43m'\u001b[39;49m\u001b[38;5;124;43m1\u001b[39;49m\u001b[38;5;124;43m'\u001b[39;49m\u001b[43m,\u001b[49m\u001b[43m \u001b[49m\u001b[38;5;124;43m'\u001b[39;49m\u001b[38;5;124;43m2\u001b[39;49m\u001b[38;5;124;43m'\u001b[39;49m\u001b[43m,\u001b[49m\u001b[43m \u001b[49m\u001b[38;5;124;43m'\u001b[39;49m\u001b[38;5;124;43m3\u001b[39;49m\u001b[38;5;124;43m'\u001b[39;49m\u001b[43m]\u001b[49m\u001b[43m,\u001b[49m\u001b[43m \u001b[49m\u001b[43mdtype\u001b[49m\u001b[38;5;241;43m=\u001b[39;49m\u001b[38;5;124;43m'\u001b[39;49m\u001b[38;5;124;43mi\u001b[39;49m\u001b[38;5;124;43m'\u001b[39;49m\u001b[43m)\u001b[49m\n",
      "\u001b[1;31mValueError\u001b[0m: invalid literal for int() with base 10: 'a'"
     ]
    }
   ],
   "source": [
    "E = np.array(['a', '1', '2', '3'], dtype='i')\n"
   ]
  },
  {
   "cell_type": "markdown",
   "id": "68a75968-a0d3-4008-a602-e3284cfb6714",
   "metadata": {},
   "source": [
    "#### Converting Data Type on Existing Arrays\r\n"
   ]
  },
  {
   "cell_type": "code",
   "execution_count": null,
   "id": "9c4dd2c0-ba3f-4705-a4a7-97e98746d54f",
   "metadata": {},
   "outputs": [],
   "source": [
    "F = np.array([3.1, 9.6, 1.5])\n",
    "\n",
    "new_arr = F.astype('i')\n",
    "\n",
    "print(F)\n",
    "print(F.dtype)\n",
    "\n",
    "print(new_arr)\n",
    "print(new_arr.dtype)"
   ]
  },
  {
   "cell_type": "code",
   "execution_count": null,
   "id": "52564ece-40a8-4622-8b0d-ec2bcfbd9657",
   "metadata": {},
   "outputs": [],
   "source": [
    "# alternative way to converting float to int\n",
    "n = F.astype(int)\n",
    "n.dtype"
   ]
  },
  {
   "cell_type": "code",
   "execution_count": null,
   "id": "ba41763c-e7b7-463d-a0e4-1f526846a57e",
   "metadata": {},
   "outputs": [],
   "source": [
    "b = np.array([1, 0, 3, 7, 2])\n",
    "\n",
    "new = b.astype(bool)\n",
    "print(new)\n",
    "new.dtype"
   ]
  },
  {
   "cell_type": "markdown",
   "id": "61a374f9-3cd4-4b4c-8578-a1ed4ffd6d96",
   "metadata": {},
   "source": [
    "### Copy vs View\n",
    "\n",
    "- Copy - The copy owns the data and any changes made to the copy will not affect original array, and any changes made to the original array will not affect the copy.\n",
    "- View - The view does not own the data and any changes made to the view will affect the original array, and any changes made to the original array will affect the view."
   ]
  },
  {
   "cell_type": "code",
   "execution_count": null,
   "id": "d80336f8-78bd-4e82-a7c5-4eaa5221c138",
   "metadata": {},
   "outputs": [],
   "source": [
    "# Copy\n",
    "\n",
    "ar = np.array([2,4,6,8])\n",
    "\n",
    "print(ar)\n",
    "\n",
    "# copy\n",
    "cp = ar.copy()\n",
    "print(cp)\n",
    "# updating\n",
    "cp[2] = 1\n",
    "print(cp)\n",
    "\n",
    "print(ar) # not affected\n",
    "\n",
    "ar[1] = 3\n",
    "print(ar)\n",
    "print(cp)"
   ]
  },
  {
   "cell_type": "code",
   "execution_count": null,
   "id": "069be6c4-3441-43d8-8316-303062bd2545",
   "metadata": {},
   "outputs": [],
   "source": [
    "# View\n",
    "\n",
    "vr = np.array([1,3,5,7,9])\n",
    "\n",
    "print(vr)\n",
    "\n",
    "# view\n",
    "cpv = vr.view()\n",
    "print(cpv)\n",
    "cpv[3] = 4\n",
    "print(cpv) # changing\n",
    "print(vr) # affected\n",
    "\n",
    "vr[1] = 8\n",
    "print(cpv) # affected"
   ]
  },
  {
   "cell_type": "markdown",
   "id": "00c256c6-7acd-4b87-8af4-bf5220c54a1b",
   "metadata": {},
   "source": [
    "### Shape of an Array"
   ]
  },
  {
   "cell_type": "code",
   "execution_count": null,
   "id": "f40c61ed-ec59-4457-b3ee-2366f98dfc69",
   "metadata": {},
   "outputs": [],
   "source": [
    "# The shape of an array is the number of elements in each dimension.\n",
    "\n",
    "## NumPy arrays have an attribute called shape that returns a tuple with each index having the number of corresponding elements.\n",
    "\n",
    "# 2-D array\n",
    "arr = np.array(\n",
    "    [\n",
    "        [1,2,3],\n",
    "        [4,5,6]\n",
    "    ]\n",
    ")\n",
    "\n",
    "arr.shape"
   ]
  },
  {
   "cell_type": "code",
   "execution_count": null,
   "id": "64fe65fa-6766-4f88-81e0-d336d5f291b8",
   "metadata": {},
   "outputs": [],
   "source": [
    "brr = np.array(\n",
    "    [\n",
    "        [2,4,6,8],\n",
    "        [1,3,5,7],\n",
    "        [1,2,3,4,]\n",
    "    ]\n",
    ")\n",
    "\n",
    "brr.shape # expected output: (3, 4) where 3 = dimension and 4 is the number of elements in each dimension of the array, respectively."
   ]
  },
  {
   "cell_type": "code",
   "execution_count": null,
   "id": "35f9b8c0-925b-4f82-b0d0-b38269446e82",
   "metadata": {},
   "outputs": [],
   "source": [
    "crr = np.array([1,2,3,4], ndmin=5)\n",
    "\n",
    "print(crr)\n",
    "crr.shape"
   ]
  },
  {
   "cell_type": "code",
   "execution_count": null,
   "id": "e68354c3-cd13-46cf-a56e-c9aabf541a44",
   "metadata": {},
   "outputs": [],
   "source": [
    "frr = np.array(\n",
    "    [\n",
    "        [\n",
    "            [\n",
    "                [\n",
    "                    [1,2,3,4]\n",
    "                ]\n",
    "            ]\n",
    "        ]\n",
    "    ]\n",
    ")\n",
    "print(frr)\n",
    "frr.shape"
   ]
  },
  {
   "cell_type": "code",
   "execution_count": null,
   "id": "274e662e-27af-4cb6-b890-86f9e09d9dc5",
   "metadata": {},
   "outputs": [],
   "source": [
    "drr = np.array(\n",
    "    [\n",
    "        [\n",
    "            [1,3,4],\n",
    "            [1,3,4],\n",
    "            [3,5,9]\n",
    "        ],\n",
    "        [\n",
    "            [1,3,4],\n",
    "            [1,3,4],\n",
    "            [3,5,9]\n",
    "        ]\n",
    "    ]\n",
    ")\n",
    "\n",
    "print(drr)\n",
    "drr.shape"
   ]
  },
  {
   "cell_type": "code",
   "execution_count": null,
   "id": "d9cc621b-48e9-4d4a-abf4-75040ffdf13f",
   "metadata": {},
   "outputs": [],
   "source": [
    "########################################\n",
    "# practice\n",
    "\n",
    "A = np.array(\n",
    "    [\n",
    "        [1,5,9],\n",
    "        [3,18,2],\n",
    "        [4,7,0]\n",
    "    ]\n",
    ")\n",
    "\n",
    "A.shape # (3,3)"
   ]
  },
  {
   "cell_type": "code",
   "execution_count": null,
   "id": "7f990480-3eb8-4b79-b867-9a56206ab786",
   "metadata": {},
   "outputs": [],
   "source": [
    "# practice\n",
    "\n",
    "A=np.array(\n",
    "    [\n",
    "        [\n",
    "            [2,4,6],\n",
    "            [1,3,5],\n",
    "            [0,-1,3]\n",
    "        ]\n",
    "    ]\n",
    ")\n",
    "\n",
    "A.shape"
   ]
  },
  {
   "cell_type": "code",
   "execution_count": null,
   "id": "b32dc99b-908e-4aee-be4a-133d3444cf63",
   "metadata": {},
   "outputs": [],
   "source": [
    "# practice\n",
    "\n",
    "A=np.array(\n",
    "    [ [ [ [ [1,2,3] ] ] ] ]\n",
    ")\n",
    "\n",
    "A.shape"
   ]
  },
  {
   "cell_type": "code",
   "execution_count": null,
   "id": "aeb476d9-19a5-40be-8178-be743b7c5ecc",
   "metadata": {},
   "outputs": [],
   "source": [
    "# practice\n",
    "\n",
    "A=np.array([3,6,1])\n",
    "A.shape"
   ]
  },
  {
   "cell_type": "code",
   "execution_count": null,
   "id": "9074389f-b335-41c1-8053-939c3b855473",
   "metadata": {},
   "outputs": [],
   "source": [
    "## exercise\n",
    "############## Use the correct NumPy method to change the shape of an array from 1-D to 2-D.\n",
    "\n",
    "arr = np.array([1, 2, 3, 4, 5, 6, 7, 8, 9, 10, 11, 12])\n",
    "\n",
    "print(arr.shape)\n",
    "newarr = arr.reshape(4, 3) # with the helkp of reshape() method\n",
    "newarr.shape"
   ]
  },
  {
   "cell_type": "code",
   "execution_count": null,
   "id": "429dc936-7b7b-4e43-bb21-c76e138f21fe",
   "metadata": {},
   "outputs": [],
   "source": [
    "# exercise\n",
    "########### Use a correct NumPy method to change the shape of an array from 2-D to 1-D.\n",
    "\n",
    "arr = np.array([[1, 2, 3, 4, 5, 6], [7, 8, 9, 10, 11, 12]])\n",
    "print(arr.shape)\n",
    "\n",
    "newarr = arr.reshape(-1)\n",
    "print(newarr.shape)"
   ]
  },
  {
   "cell_type": "code",
   "execution_count": null,
   "id": "d54e86e5-15f4-4bfd-8f9b-db4fad1f91ed",
   "metadata": {},
   "outputs": [],
   "source": []
  }
 ],
 "metadata": {
  "kernelspec": {
   "display_name": "Python 3 (ipykernel)",
   "language": "python",
   "name": "python3"
  },
  "language_info": {
   "codemirror_mode": {
    "name": "ipython",
    "version": 3
   },
   "file_extension": ".py",
   "mimetype": "text/x-python",
   "name": "python",
   "nbconvert_exporter": "python",
   "pygments_lexer": "ipython3",
   "version": "3.9.0"
  }
 },
 "nbformat": 4,
 "nbformat_minor": 5
}
